{
 "cells": [
  {
   "cell_type": "markdown",
   "id": "dbdd6993",
   "metadata": {},
   "source": [
    "# Python Built-in Function"
   ]
  },
  {
   "cell_type": "markdown",
   "id": "6ffcbfc9",
   "metadata": {},
   "source": [
    "## Function"
   ]
  },
  {
   "cell_type": "markdown",
   "id": "9ce16829",
   "metadata": {},
   "source": [
    "### 1) len()"
   ]
  },
  {
   "cell_type": "code",
   "execution_count": 1,
   "id": "890ece36",
   "metadata": {},
   "outputs": [],
   "source": [
    "lst = [1, 2, 3]\n",
    "string = 'Hello'\n",
    "dictionary = {'a': 1, 'b': 2}"
   ]
  },
  {
   "cell_type": "code",
   "execution_count": 2,
   "id": "1fc89df7",
   "metadata": {},
   "outputs": [
    {
     "name": "stdout",
     "output_type": "stream",
     "text": [
      "3\n",
      "5\n",
      "2\n"
     ]
    }
   ],
   "source": [
    "print(len(lst))\n",
    "print(len(string))\n",
    "print(len(dictionary))"
   ]
  },
  {
   "cell_type": "markdown",
   "id": "6388bf4c",
   "metadata": {},
   "source": [
    "### 2) range()"
   ]
  },
  {
   "cell_type": "code",
   "execution_count": 7,
   "id": "ba7eba0b",
   "metadata": {},
   "outputs": [
    {
     "name": "stdout",
     "output_type": "stream",
     "text": [
      "range(0, 5)\n",
      "[0, 1, 2, 3, 4]\n",
      "2\n",
      "4\n",
      "6\n",
      "8\n"
     ]
    }
   ],
   "source": [
    "a = range(5)\n",
    "print(a)\n",
    "print(list(a))\n",
    "for i in range(2,10,2):\n",
    "    print(i)"
   ]
  },
  {
   "cell_type": "markdown",
   "id": "679ecadf",
   "metadata": {},
   "source": [
    "### 3) zip()"
   ]
  },
  {
   "cell_type": "code",
   "execution_count": 18,
   "id": "02cb74ec",
   "metadata": {},
   "outputs": [
    {
     "name": "stdout",
     "output_type": "stream",
     "text": [
      "orange 7\n",
      "banan 6\n"
     ]
    }
   ],
   "source": [
    "fruits = ['orange', 'banan']\n",
    "price = [7 , 6]\n",
    "\n",
    "for i, t in list(zip(fruits, price)):\n",
    "    print(i, t)"
   ]
  },
  {
   "cell_type": "markdown",
   "id": "1f902e12",
   "metadata": {},
   "source": [
    "### 4) stored()"
   ]
  },
  {
   "cell_type": "code",
   "execution_count": 5,
   "id": "29df15bc",
   "metadata": {},
   "outputs": [
    {
     "name": "stdout",
     "output_type": "stream",
     "text": [
      "[1, 2, 4, 8]\n"
     ]
    }
   ],
   "source": [
    "numbers = [4, 2, 8, 1]\n",
    "print(sorted(numbers))"
   ]
  },
  {
   "cell_type": "markdown",
   "id": "e1abda05",
   "metadata": {},
   "source": [
    "## Methods"
   ]
  },
  {
   "cell_type": "markdown",
   "id": "a2e45cbb",
   "metadata": {},
   "source": [
    "### 1) .split()"
   ]
  },
  {
   "cell_type": "code",
   "execution_count": 6,
   "id": "2d473cb3",
   "metadata": {},
   "outputs": [
    {
     "name": "stdout",
     "output_type": "stream",
     "text": [
      "['split1', 'split2', 'split2', 'split3', 'split5']\n"
     ]
    }
   ],
   "source": [
    "text = \"split1 split2 split2 split3 split5\"\n",
    "words = text.split()  \n",
    "print(words)"
   ]
  },
  {
   "cell_type": "code",
   "execution_count": 7,
   "id": "e7e39eb1",
   "metadata": {},
   "outputs": [
    {
     "name": "stdout",
     "output_type": "stream",
     "text": [
      "['split1', ' split2', ' split2', ' split3, split5']\n"
     ]
    }
   ],
   "source": [
    "text = \"split1, split2, split2, split3, split5\"\n",
    "items = text.split(\",\", maxsplit=3)\n",
    "print(items)"
   ]
  },
  {
   "cell_type": "markdown",
   "id": "c938d620",
   "metadata": {},
   "source": [
    "### 2) .strip()"
   ]
  },
  {
   "cell_type": "code",
   "execution_count": 8,
   "id": "cc0e9295",
   "metadata": {},
   "outputs": [
    {
     "name": "stdout",
     "output_type": "stream",
     "text": [
      "Data Science Bootcamp\n"
     ]
    }
   ],
   "source": [
    "text = \"   Data Science Bootcamp   \"\n",
    "cleanedText = text.strip()\n",
    "print(cleanedText)"
   ]
  },
  {
   "cell_type": "code",
   "execution_count": 14,
   "id": "1b01a85e",
   "metadata": {},
   "outputs": [
    {
     "name": "stdout",
     "output_type": "stream",
     "text": [
      "Bootcampb\n"
     ]
    }
   ],
   "source": [
    "text =\"#$^&#@%$& Bootcampb #@$&@#\"\n",
    "cleanedText1 = text.strip(\"#$^&@% o\")\n",
    "print(cleanedText1)"
   ]
  },
  {
   "cell_type": "markdown",
   "id": "49d9beec",
   "metadata": {},
   "source": [
    "### 3) .sort()"
   ]
  },
  {
   "cell_type": "code",
   "execution_count": 10,
   "id": "cf3df9ac",
   "metadata": {},
   "outputs": [
    {
     "name": "stdout",
     "output_type": "stream",
     "text": [
      "[101, 102, 200, 500, 900]\n"
     ]
    }
   ],
   "source": [
    "num = [500, 200, 900, 102, 101]\n",
    "num.sort()\n",
    "print(num)"
   ]
  },
  {
   "cell_type": "code",
   "execution_count": 11,
   "id": "85e3f2f8",
   "metadata": {},
   "outputs": [
    {
     "name": "stdout",
     "output_type": "stream",
     "text": [
      "[900, 500, 200, 102, 101]\n"
     ]
    }
   ],
   "source": [
    "num1 = [500, 200, 900, 102, 101]\n",
    "num1.sort(reverse=True)\n",
    "print(num1)"
   ]
  },
  {
   "cell_type": "markdown",
   "id": "d8e15670",
   "metadata": {},
   "source": [
    "### 4) .pop()"
   ]
  },
  {
   "cell_type": "code",
   "execution_count": 12,
   "id": "64e3e97a",
   "metadata": {},
   "outputs": [
    {
     "name": "stdout",
     "output_type": "stream",
     "text": [
      "Sea Green\n",
      "['Aqua', 'Turquoise', 'Teal', 'Blue']\n"
     ]
    }
   ],
   "source": [
    "colors = [\"Aqua\", \"Turquoise\", \"Teal\", \"Blue\", \"Sea Green\"]\n",
    "removedColor = colors.pop()\n",
    "print(removedColor)\n",
    "print(colors)"
   ]
  },
  {
   "cell_type": "code",
   "execution_count": 13,
   "id": "bd1e41ca",
   "metadata": {},
   "outputs": [
    {
     "name": "stdout",
     "output_type": "stream",
     "text": [
      "Blue\n",
      "['Aqua', 'Turquoise', 'Teal', 'Sea Green']\n"
     ]
    }
   ],
   "source": [
    "colors = [\"Aqua\", \"Turquoise\", \"Teal\", \"Blue\", \"Sea Green\"]\n",
    "removedColor = colors.pop(3)\n",
    "print(removedColor)\n",
    "print(colors)"
   ]
  }
 ],
 "metadata": {
  "kernelspec": {
   "display_name": "Python 3 (ipykernel)",
   "language": "python",
   "name": "python3"
  },
  "language_info": {
   "codemirror_mode": {
    "name": "ipython",
    "version": 3
   },
   "file_extension": ".py",
   "mimetype": "text/x-python",
   "name": "python",
   "nbconvert_exporter": "python",
   "pygments_lexer": "ipython3",
   "version": "3.11.5"
  }
 },
 "nbformat": 4,
 "nbformat_minor": 5
}
